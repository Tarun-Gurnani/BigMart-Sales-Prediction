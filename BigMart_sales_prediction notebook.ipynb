{
    "cells": [
        {
            "metadata": {
                "collapsed": true
            },
            "cell_type": "markdown",
            "source": "# BIG MART SALES PREDICTION"
        },
        {
            "metadata": {},
            "cell_type": "markdown",
            "source": "### IMPORT REQUIRES LIBRARIES"
        },
        {
            "metadata": {},
            "cell_type": "code",
            "source": "import pandas as pd\nfrom sklearn.linear_model import LinearRegression\nfrom sklearn.model_selection import train_test_split\nfrom sklearn.preprocessing import LabelEncoder\nfrom sklearn.metrics import mean_squared_error\nimport matplotlib.pyplot as plt\nimport pylab as pl\n%matplotlib inline\nimport seaborn as sns",
            "execution_count": 1,
            "outputs": []
        },
        {
            "metadata": {},
            "cell_type": "markdown",
            "source": "### read the train and test dataset"
        },
        {
            "metadata": {},
            "cell_type": "code",
            "source": "\nimport types\nimport pandas as pd\nfrom botocore.client import Config\nimport ibm_boto3\n\ndef __iter__(self): return 0\n\n# @hidden_cell\n# The following code accesses a file in your IBM Cloud Object Storage. It includes your credentials.\n# You might want to remove those credentials before you share the notebook.\nclient_9bbfa4ab4e0548258fb2cc9e70eef4a9 = ibm_boto3.client(service_name='s3',\n    ibm_api_key_id='voWp7aKsK5dVjNr7QT3-wblaw6od6cRd4vFU7FECjlZ_',\n    ibm_auth_endpoint=\"https://iam.au-syd.bluemix.net/oidc/token\",\n    config=Config(signature_version='oauth'),\n    endpoint_url='https://s3.ap-geo.objectstorage.service.networklayer.com')\n\nbody = client_9bbfa4ab4e0548258fb2cc9e70eef4a9.get_object(Bucket='bigmartsalesprediction-donotdelete-pr-28ulsqoakx2c40',Key='train_data.csv')['Body']\n# add missing __iter__ method, so pandas accepts body as file-like object\nif not hasattr(body, \"__iter__\"): body.__iter__ = types.MethodType( __iter__, body )\n\n# If you are reading an Excel file into a pandas DataFrame, replace `read_csv` by `read_excel` in the next statement.\ndata = pd.read_csv(body)\ndata.head()\n",
            "execution_count": 2,
            "outputs": [
                {
                    "output_type": "execute_result",
                    "execution_count": 2,
                    "data": {
                        "text/plain": "  Item_Identifier  Item_Weight Item_Fat_Content  Item_Visibility  \\\n0           FDA15         9.30          Low Fat         0.016047   \n1           DRC01         5.92          Regular         0.019278   \n2           FDN15        17.50          Low Fat         0.016760   \n3           FDX07        19.20          Regular         0.000000   \n4           NCD19         8.93          Low Fat         0.000000   \n\n               Item_Type  Item_MRP Outlet_Identifier  \\\n0                  Dairy  249.8092            OUT049   \n1            Soft Drinks   48.2692            OUT018   \n2                   Meat  141.6180            OUT049   \n3  Fruits and Vegetables  182.0950            OUT010   \n4              Household   53.8614            OUT013   \n\n   Outlet_Establishment_Year Outlet_Size Outlet_Location_Type  \\\n0                       1999      Medium               Tier 1   \n1                       2009      Medium               Tier 3   \n2                       1999      Medium               Tier 1   \n3                       1998         NaN               Tier 3   \n4                       1987        High               Tier 3   \n\n         Outlet_Type  Item_Outlet_Sales  \n0  Supermarket Type1          3735.1380  \n1  Supermarket Type2           443.4228  \n2  Supermarket Type1          2097.2700  \n3      Grocery Store           732.3800  \n4  Supermarket Type1           994.7052  ",
                        "text/html": "<div>\n<style scoped>\n    .dataframe tbody tr th:only-of-type {\n        vertical-align: middle;\n    }\n\n    .dataframe tbody tr th {\n        vertical-align: top;\n    }\n\n    .dataframe thead th {\n        text-align: right;\n    }\n</style>\n<table border=\"1\" class=\"dataframe\">\n  <thead>\n    <tr style=\"text-align: right;\">\n      <th></th>\n      <th>Item_Identifier</th>\n      <th>Item_Weight</th>\n      <th>Item_Fat_Content</th>\n      <th>Item_Visibility</th>\n      <th>Item_Type</th>\n      <th>Item_MRP</th>\n      <th>Outlet_Identifier</th>\n      <th>Outlet_Establishment_Year</th>\n      <th>Outlet_Size</th>\n      <th>Outlet_Location_Type</th>\n      <th>Outlet_Type</th>\n      <th>Item_Outlet_Sales</th>\n    </tr>\n  </thead>\n  <tbody>\n    <tr>\n      <th>0</th>\n      <td>FDA15</td>\n      <td>9.30</td>\n      <td>Low Fat</td>\n      <td>0.016047</td>\n      <td>Dairy</td>\n      <td>249.8092</td>\n      <td>OUT049</td>\n      <td>1999</td>\n      <td>Medium</td>\n      <td>Tier 1</td>\n      <td>Supermarket Type1</td>\n      <td>3735.1380</td>\n    </tr>\n    <tr>\n      <th>1</th>\n      <td>DRC01</td>\n      <td>5.92</td>\n      <td>Regular</td>\n      <td>0.019278</td>\n      <td>Soft Drinks</td>\n      <td>48.2692</td>\n      <td>OUT018</td>\n      <td>2009</td>\n      <td>Medium</td>\n      <td>Tier 3</td>\n      <td>Supermarket Type2</td>\n      <td>443.4228</td>\n    </tr>\n    <tr>\n      <th>2</th>\n      <td>FDN15</td>\n      <td>17.50</td>\n      <td>Low Fat</td>\n      <td>0.016760</td>\n      <td>Meat</td>\n      <td>141.6180</td>\n      <td>OUT049</td>\n      <td>1999</td>\n      <td>Medium</td>\n      <td>Tier 1</td>\n      <td>Supermarket Type1</td>\n      <td>2097.2700</td>\n    </tr>\n    <tr>\n      <th>3</th>\n      <td>FDX07</td>\n      <td>19.20</td>\n      <td>Regular</td>\n      <td>0.000000</td>\n      <td>Fruits and Vegetables</td>\n      <td>182.0950</td>\n      <td>OUT010</td>\n      <td>1998</td>\n      <td>NaN</td>\n      <td>Tier 3</td>\n      <td>Grocery Store</td>\n      <td>732.3800</td>\n    </tr>\n    <tr>\n      <th>4</th>\n      <td>NCD19</td>\n      <td>8.93</td>\n      <td>Low Fat</td>\n      <td>0.000000</td>\n      <td>Household</td>\n      <td>53.8614</td>\n      <td>OUT013</td>\n      <td>1987</td>\n      <td>High</td>\n      <td>Tier 3</td>\n      <td>Supermarket Type1</td>\n      <td>994.7052</td>\n    </tr>\n  </tbody>\n</table>\n</div>"
                    },
                    "metadata": {}
                }
            ]
        },
        {
            "metadata": {},
            "cell_type": "code",
            "source": "data.describe()",
            "execution_count": 3,
            "outputs": [
                {
                    "output_type": "execute_result",
                    "execution_count": 3,
                    "data": {
                        "text/plain": "       Item_Weight  Item_Visibility     Item_MRP  Outlet_Establishment_Year  \\\ncount  7060.000000      8523.000000  8523.000000                8523.000000   \nmean     12.857645         0.066132   140.992782                1997.831867   \nstd       4.643456         0.051598    62.275067                   8.371760   \nmin       4.555000         0.000000    31.290000                1985.000000   \n25%       8.773750         0.026989    93.826500                1987.000000   \n50%      12.600000         0.053931   143.012800                1999.000000   \n75%      16.850000         0.094585   185.643700                2004.000000   \nmax      21.350000         0.328391   266.888400                2009.000000   \n\n       Item_Outlet_Sales  \ncount        8523.000000  \nmean         2181.288914  \nstd          1706.499616  \nmin            33.290000  \n25%           834.247400  \n50%          1794.331000  \n75%          3101.296400  \nmax         13086.964800  ",
                        "text/html": "<div>\n<style scoped>\n    .dataframe tbody tr th:only-of-type {\n        vertical-align: middle;\n    }\n\n    .dataframe tbody tr th {\n        vertical-align: top;\n    }\n\n    .dataframe thead th {\n        text-align: right;\n    }\n</style>\n<table border=\"1\" class=\"dataframe\">\n  <thead>\n    <tr style=\"text-align: right;\">\n      <th></th>\n      <th>Item_Weight</th>\n      <th>Item_Visibility</th>\n      <th>Item_MRP</th>\n      <th>Outlet_Establishment_Year</th>\n      <th>Item_Outlet_Sales</th>\n    </tr>\n  </thead>\n  <tbody>\n    <tr>\n      <th>count</th>\n      <td>7060.000000</td>\n      <td>8523.000000</td>\n      <td>8523.000000</td>\n      <td>8523.000000</td>\n      <td>8523.000000</td>\n    </tr>\n    <tr>\n      <th>mean</th>\n      <td>12.857645</td>\n      <td>0.066132</td>\n      <td>140.992782</td>\n      <td>1997.831867</td>\n      <td>2181.288914</td>\n    </tr>\n    <tr>\n      <th>std</th>\n      <td>4.643456</td>\n      <td>0.051598</td>\n      <td>62.275067</td>\n      <td>8.371760</td>\n      <td>1706.499616</td>\n    </tr>\n    <tr>\n      <th>min</th>\n      <td>4.555000</td>\n      <td>0.000000</td>\n      <td>31.290000</td>\n      <td>1985.000000</td>\n      <td>33.290000</td>\n    </tr>\n    <tr>\n      <th>25%</th>\n      <td>8.773750</td>\n      <td>0.026989</td>\n      <td>93.826500</td>\n      <td>1987.000000</td>\n      <td>834.247400</td>\n    </tr>\n    <tr>\n      <th>50%</th>\n      <td>12.600000</td>\n      <td>0.053931</td>\n      <td>143.012800</td>\n      <td>1999.000000</td>\n      <td>1794.331000</td>\n    </tr>\n    <tr>\n      <th>75%</th>\n      <td>16.850000</td>\n      <td>0.094585</td>\n      <td>185.643700</td>\n      <td>2004.000000</td>\n      <td>3101.296400</td>\n    </tr>\n    <tr>\n      <th>max</th>\n      <td>21.350000</td>\n      <td>0.328391</td>\n      <td>266.888400</td>\n      <td>2009.000000</td>\n      <td>13086.964800</td>\n    </tr>\n  </tbody>\n</table>\n</div>"
                    },
                    "metadata": {}
                }
            ]
        },
        {
            "metadata": {},
            "cell_type": "code",
            "source": "data.shape",
            "execution_count": 4,
            "outputs": [
                {
                    "output_type": "execute_result",
                    "execution_count": 4,
                    "data": {
                        "text/plain": "(8523, 12)"
                    },
                    "metadata": {}
                }
            ]
        },
        {
            "metadata": {},
            "cell_type": "code",
            "source": "data= data.dropna(how='any',axis=0)",
            "execution_count": 5,
            "outputs": []
        },
        {
            "metadata": {},
            "cell_type": "code",
            "source": "data.shape",
            "execution_count": 6,
            "outputs": [
                {
                    "output_type": "execute_result",
                    "execution_count": 6,
                    "data": {
                        "text/plain": "(4650, 12)"
                    },
                    "metadata": {}
                }
            ]
        },
        {
            "metadata": {},
            "cell_type": "code",
            "source": "data.head()",
            "execution_count": 7,
            "outputs": [
                {
                    "output_type": "execute_result",
                    "execution_count": 7,
                    "data": {
                        "text/plain": "  Item_Identifier  Item_Weight Item_Fat_Content  Item_Visibility  \\\n0           FDA15        9.300          Low Fat         0.016047   \n1           DRC01        5.920          Regular         0.019278   \n2           FDN15       17.500          Low Fat         0.016760   \n4           NCD19        8.930          Low Fat         0.000000   \n5           FDP36       10.395          Regular         0.000000   \n\n      Item_Type  Item_MRP Outlet_Identifier  Outlet_Establishment_Year  \\\n0         Dairy  249.8092            OUT049                       1999   \n1   Soft Drinks   48.2692            OUT018                       2009   \n2          Meat  141.6180            OUT049                       1999   \n4     Household   53.8614            OUT013                       1987   \n5  Baking Goods   51.4008            OUT018                       2009   \n\n  Outlet_Size Outlet_Location_Type        Outlet_Type  Item_Outlet_Sales  \n0      Medium               Tier 1  Supermarket Type1          3735.1380  \n1      Medium               Tier 3  Supermarket Type2           443.4228  \n2      Medium               Tier 1  Supermarket Type1          2097.2700  \n4        High               Tier 3  Supermarket Type1           994.7052  \n5      Medium               Tier 3  Supermarket Type2           556.6088  ",
                        "text/html": "<div>\n<style scoped>\n    .dataframe tbody tr th:only-of-type {\n        vertical-align: middle;\n    }\n\n    .dataframe tbody tr th {\n        vertical-align: top;\n    }\n\n    .dataframe thead th {\n        text-align: right;\n    }\n</style>\n<table border=\"1\" class=\"dataframe\">\n  <thead>\n    <tr style=\"text-align: right;\">\n      <th></th>\n      <th>Item_Identifier</th>\n      <th>Item_Weight</th>\n      <th>Item_Fat_Content</th>\n      <th>Item_Visibility</th>\n      <th>Item_Type</th>\n      <th>Item_MRP</th>\n      <th>Outlet_Identifier</th>\n      <th>Outlet_Establishment_Year</th>\n      <th>Outlet_Size</th>\n      <th>Outlet_Location_Type</th>\n      <th>Outlet_Type</th>\n      <th>Item_Outlet_Sales</th>\n    </tr>\n  </thead>\n  <tbody>\n    <tr>\n      <th>0</th>\n      <td>FDA15</td>\n      <td>9.300</td>\n      <td>Low Fat</td>\n      <td>0.016047</td>\n      <td>Dairy</td>\n      <td>249.8092</td>\n      <td>OUT049</td>\n      <td>1999</td>\n      <td>Medium</td>\n      <td>Tier 1</td>\n      <td>Supermarket Type1</td>\n      <td>3735.1380</td>\n    </tr>\n    <tr>\n      <th>1</th>\n      <td>DRC01</td>\n      <td>5.920</td>\n      <td>Regular</td>\n      <td>0.019278</td>\n      <td>Soft Drinks</td>\n      <td>48.2692</td>\n      <td>OUT018</td>\n      <td>2009</td>\n      <td>Medium</td>\n      <td>Tier 3</td>\n      <td>Supermarket Type2</td>\n      <td>443.4228</td>\n    </tr>\n    <tr>\n      <th>2</th>\n      <td>FDN15</td>\n      <td>17.500</td>\n      <td>Low Fat</td>\n      <td>0.016760</td>\n      <td>Meat</td>\n      <td>141.6180</td>\n      <td>OUT049</td>\n      <td>1999</td>\n      <td>Medium</td>\n      <td>Tier 1</td>\n      <td>Supermarket Type1</td>\n      <td>2097.2700</td>\n    </tr>\n    <tr>\n      <th>4</th>\n      <td>NCD19</td>\n      <td>8.930</td>\n      <td>Low Fat</td>\n      <td>0.000000</td>\n      <td>Household</td>\n      <td>53.8614</td>\n      <td>OUT013</td>\n      <td>1987</td>\n      <td>High</td>\n      <td>Tier 3</td>\n      <td>Supermarket Type1</td>\n      <td>994.7052</td>\n    </tr>\n    <tr>\n      <th>5</th>\n      <td>FDP36</td>\n      <td>10.395</td>\n      <td>Regular</td>\n      <td>0.000000</td>\n      <td>Baking Goods</td>\n      <td>51.4008</td>\n      <td>OUT018</td>\n      <td>2009</td>\n      <td>Medium</td>\n      <td>Tier 3</td>\n      <td>Supermarket Type2</td>\n      <td>556.6088</td>\n    </tr>\n  </tbody>\n</table>\n</div>"
                    },
                    "metadata": {}
                }
            ]
        },
        {
            "metadata": {},
            "cell_type": "markdown",
            "source": "### COVERT CATEGORICAL VALUES TO INT"
        },
        {
            "metadata": {},
            "cell_type": "code",
            "source": "data = pd.get_dummies(data)\ndata.head()",
            "execution_count": 9,
            "outputs": [
                {
                    "output_type": "execute_result",
                    "execution_count": 9,
                    "data": {
                        "text/plain": "   Item_Weight  Item_Visibility  Item_MRP  Outlet_Establishment_Year  \\\n0        9.300         0.016047  249.8092                       1999   \n1        5.920         0.019278   48.2692                       2009   \n2       17.500         0.016760  141.6180                       1999   \n4        8.930         0.000000   53.8614                       1987   \n5       10.395         0.000000   51.4008                       2009   \n\n   Item_Outlet_Sales  Item_Identifier_DRA12  Item_Identifier_DRA24  \\\n0          3735.1380                      0                      0   \n1           443.4228                      0                      0   \n2          2097.2700                      0                      0   \n4           994.7052                      0                      0   \n5           556.6088                      0                      0   \n\n   Item_Identifier_DRA59  Item_Identifier_DRB01  Item_Identifier_DRB13  ...  \\\n0                      0                      0                      0  ...   \n1                      0                      0                      0  ...   \n2                      0                      0                      0  ...   \n4                      0                      0                      0  ...   \n5                      0                      0                      0  ...   \n\n   Outlet_Identifier_OUT046  Outlet_Identifier_OUT049  Outlet_Size_High  \\\n0                         0                         1                 0   \n1                         0                         0                 0   \n2                         0                         1                 0   \n4                         0                         0                 1   \n5                         0                         0                 0   \n\n   Outlet_Size_Medium  Outlet_Size_Small  Outlet_Location_Type_Tier 1  \\\n0                   1                  0                            1   \n1                   1                  0                            0   \n2                   1                  0                            1   \n4                   0                  0                            0   \n5                   1                  0                            0   \n\n   Outlet_Location_Type_Tier 2  Outlet_Location_Type_Tier 3  \\\n0                            0                            0   \n1                            0                            1   \n2                            0                            0   \n4                            0                            1   \n5                            0                            1   \n\n   Outlet_Type_Supermarket Type1  Outlet_Type_Supermarket Type2  \n0                              1                              0  \n1                              0                              1  \n2                              1                              0  \n4                              1                              0  \n5                              0                              1  \n\n[5 rows x 1574 columns]",
                        "text/html": "<div>\n<style scoped>\n    .dataframe tbody tr th:only-of-type {\n        vertical-align: middle;\n    }\n\n    .dataframe tbody tr th {\n        vertical-align: top;\n    }\n\n    .dataframe thead th {\n        text-align: right;\n    }\n</style>\n<table border=\"1\" class=\"dataframe\">\n  <thead>\n    <tr style=\"text-align: right;\">\n      <th></th>\n      <th>Item_Weight</th>\n      <th>Item_Visibility</th>\n      <th>Item_MRP</th>\n      <th>Outlet_Establishment_Year</th>\n      <th>Item_Outlet_Sales</th>\n      <th>Item_Identifier_DRA12</th>\n      <th>Item_Identifier_DRA24</th>\n      <th>Item_Identifier_DRA59</th>\n      <th>Item_Identifier_DRB01</th>\n      <th>Item_Identifier_DRB13</th>\n      <th>...</th>\n      <th>Outlet_Identifier_OUT046</th>\n      <th>Outlet_Identifier_OUT049</th>\n      <th>Outlet_Size_High</th>\n      <th>Outlet_Size_Medium</th>\n      <th>Outlet_Size_Small</th>\n      <th>Outlet_Location_Type_Tier 1</th>\n      <th>Outlet_Location_Type_Tier 2</th>\n      <th>Outlet_Location_Type_Tier 3</th>\n      <th>Outlet_Type_Supermarket Type1</th>\n      <th>Outlet_Type_Supermarket Type2</th>\n    </tr>\n  </thead>\n  <tbody>\n    <tr>\n      <th>0</th>\n      <td>9.300</td>\n      <td>0.016047</td>\n      <td>249.8092</td>\n      <td>1999</td>\n      <td>3735.1380</td>\n      <td>0</td>\n      <td>0</td>\n      <td>0</td>\n      <td>0</td>\n      <td>0</td>\n      <td>...</td>\n      <td>0</td>\n      <td>1</td>\n      <td>0</td>\n      <td>1</td>\n      <td>0</td>\n      <td>1</td>\n      <td>0</td>\n      <td>0</td>\n      <td>1</td>\n      <td>0</td>\n    </tr>\n    <tr>\n      <th>1</th>\n      <td>5.920</td>\n      <td>0.019278</td>\n      <td>48.2692</td>\n      <td>2009</td>\n      <td>443.4228</td>\n      <td>0</td>\n      <td>0</td>\n      <td>0</td>\n      <td>0</td>\n      <td>0</td>\n      <td>...</td>\n      <td>0</td>\n      <td>0</td>\n      <td>0</td>\n      <td>1</td>\n      <td>0</td>\n      <td>0</td>\n      <td>0</td>\n      <td>1</td>\n      <td>0</td>\n      <td>1</td>\n    </tr>\n    <tr>\n      <th>2</th>\n      <td>17.500</td>\n      <td>0.016760</td>\n      <td>141.6180</td>\n      <td>1999</td>\n      <td>2097.2700</td>\n      <td>0</td>\n      <td>0</td>\n      <td>0</td>\n      <td>0</td>\n      <td>0</td>\n      <td>...</td>\n      <td>0</td>\n      <td>1</td>\n      <td>0</td>\n      <td>1</td>\n      <td>0</td>\n      <td>1</td>\n      <td>0</td>\n      <td>0</td>\n      <td>1</td>\n      <td>0</td>\n    </tr>\n    <tr>\n      <th>4</th>\n      <td>8.930</td>\n      <td>0.000000</td>\n      <td>53.8614</td>\n      <td>1987</td>\n      <td>994.7052</td>\n      <td>0</td>\n      <td>0</td>\n      <td>0</td>\n      <td>0</td>\n      <td>0</td>\n      <td>...</td>\n      <td>0</td>\n      <td>0</td>\n      <td>1</td>\n      <td>0</td>\n      <td>0</td>\n      <td>0</td>\n      <td>0</td>\n      <td>1</td>\n      <td>1</td>\n      <td>0</td>\n    </tr>\n    <tr>\n      <th>5</th>\n      <td>10.395</td>\n      <td>0.000000</td>\n      <td>51.4008</td>\n      <td>2009</td>\n      <td>556.6088</td>\n      <td>0</td>\n      <td>0</td>\n      <td>0</td>\n      <td>0</td>\n      <td>0</td>\n      <td>...</td>\n      <td>0</td>\n      <td>0</td>\n      <td>0</td>\n      <td>1</td>\n      <td>0</td>\n      <td>0</td>\n      <td>0</td>\n      <td>1</td>\n      <td>0</td>\n      <td>1</td>\n    </tr>\n  </tbody>\n</table>\n<p>5 rows \u00d7 1574 columns</p>\n</div>"
                    },
                    "metadata": {}
                }
            ]
        },
        {
            "metadata": {},
            "cell_type": "markdown",
            "source": "### TRAIN TEST SPLIT"
        },
        {
            "metadata": {},
            "cell_type": "code",
            "source": "train , test = train_test_split(data, test_size=0.2, random_state=0)",
            "execution_count": 10,
            "outputs": []
        },
        {
            "metadata": {},
            "cell_type": "code",
            "source": "train.shape",
            "execution_count": 11,
            "outputs": [
                {
                    "output_type": "execute_result",
                    "execution_count": 11,
                    "data": {
                        "text/plain": "(3720, 1574)"
                    },
                    "metadata": {}
                }
            ]
        },
        {
            "metadata": {},
            "cell_type": "code",
            "source": "test.shape",
            "execution_count": 12,
            "outputs": [
                {
                    "output_type": "execute_result",
                    "execution_count": 12,
                    "data": {
                        "text/plain": "(930, 1574)"
                    },
                    "metadata": {}
                }
            ]
        },
        {
            "metadata": {},
            "cell_type": "markdown",
            "source": "### DATA VISUALIZATION"
        },
        {
            "metadata": {},
            "cell_type": "code",
            "source": "train.hist()\nplt.show()",
            "execution_count": null,
            "outputs": []
        },
        {
            "metadata": {},
            "cell_type": "code",
            "source": "plt.figure(figsize=(25,25))\nplt.scatter(train.Item_Outlet_Sales,train.Item_Identifier,color='green')\nplt.xlabel(\"ITEM IDENTIFIER\")\nplt.ylabel(\"ITEM OUTLET SALES\")\nplt.show()",
            "execution_count": null,
            "outputs": []
        },
        {
            "metadata": {},
            "cell_type": "code",
            "source": "plt.scatter(train.Item_Fat_Content,train.Item_Outlet_Sales,color='green')\nplt.xlabel(\"Item_Fat_Content\")\nplt.ylabel(\"ITEM OUTLET SALES\")\nplt.show()",
            "execution_count": null,
            "outputs": []
        },
        {
            "metadata": {},
            "cell_type": "code",
            "source": "plt.figure(figsize=(20,20))\nplt.scatter(train.Item_Type,train.Item_Outlet_Sales,color='green')\nplt.xlabel(\"Item_type\")\nplt.ylabel(\"ITEM OUTLET SALES\")\nplt.show()",
            "execution_count": null,
            "outputs": []
        },
        {
            "metadata": {},
            "cell_type": "markdown",
            "source": "### SELECT LABEL AND FEATURE"
        },
        {
            "metadata": {},
            "cell_type": "code",
            "source": "train_x = train.drop(columns=['Item_Outlet_Sales'],axis=1)\ntrain_y = train.Item_Outlet_Sales",
            "execution_count": 14,
            "outputs": []
        },
        {
            "metadata": {},
            "cell_type": "code",
            "source": "test_x = test.drop(columns=['Item_Outlet_Sales'],axis=1)\ntest_y = test.Item_Outlet_Sales",
            "execution_count": 15,
            "outputs": []
        },
        {
            "metadata": {},
            "cell_type": "markdown",
            "source": "### CHECK DATA"
        },
        {
            "metadata": {},
            "cell_type": "code",
            "source": "train_x.head()",
            "execution_count": 16,
            "outputs": [
                {
                    "output_type": "execute_result",
                    "execution_count": 16,
                    "data": {
                        "text/plain": "      Item_Weight  Item_Visibility  Item_MRP  Outlet_Establishment_Year  \\\n7604        6.135         0.079294  111.2860                       2009   \n7283        9.395         0.159304  226.1720                       2004   \n8439        7.720         0.000000  117.7466                       2009   \n602        20.850         0.000000  115.1808                       2009   \n1188       18.000         0.073491  157.3972                       2009   \n\n      Item_Identifier_DRA12  Item_Identifier_DRA24  Item_Identifier_DRA59  \\\n7604                      0                      0                      0   \n7283                      0                      0                      0   \n8439                      0                      0                      0   \n602                       0                      0                      0   \n1188                      0                      0                      0   \n\n      Item_Identifier_DRB01  Item_Identifier_DRB13  Item_Identifier_DRB24  \\\n7604                      0                      0                      0   \n7283                      0                      0                      0   \n8439                      0                      0                      0   \n602                       0                      0                      0   \n1188                      0                      0                      0   \n\n      ...  Outlet_Identifier_OUT046  Outlet_Identifier_OUT049  \\\n7604  ...                         0                         0   \n7283  ...                         0                         0   \n8439  ...                         0                         0   \n602   ...                         0                         0   \n1188  ...                         0                         0   \n\n      Outlet_Size_High  Outlet_Size_Medium  Outlet_Size_Small  \\\n7604                 0                   1                  0   \n7283                 0                   0                  1   \n8439                 0                   1                  0   \n602                  0                   1                  0   \n1188                 0                   1                  0   \n\n      Outlet_Location_Type_Tier 1  Outlet_Location_Type_Tier 2  \\\n7604                            0                            0   \n7283                            0                            1   \n8439                            0                            0   \n602                             0                            0   \n1188                            0                            0   \n\n      Outlet_Location_Type_Tier 3  Outlet_Type_Supermarket Type1  \\\n7604                            1                              0   \n7283                            0                              1   \n8439                            1                              0   \n602                             1                              0   \n1188                            1                              0   \n\n      Outlet_Type_Supermarket Type2  \n7604                              1  \n7283                              0  \n8439                              1  \n602                               1  \n1188                              1  \n\n[5 rows x 1573 columns]",
                        "text/html": "<div>\n<style scoped>\n    .dataframe tbody tr th:only-of-type {\n        vertical-align: middle;\n    }\n\n    .dataframe tbody tr th {\n        vertical-align: top;\n    }\n\n    .dataframe thead th {\n        text-align: right;\n    }\n</style>\n<table border=\"1\" class=\"dataframe\">\n  <thead>\n    <tr style=\"text-align: right;\">\n      <th></th>\n      <th>Item_Weight</th>\n      <th>Item_Visibility</th>\n      <th>Item_MRP</th>\n      <th>Outlet_Establishment_Year</th>\n      <th>Item_Identifier_DRA12</th>\n      <th>Item_Identifier_DRA24</th>\n      <th>Item_Identifier_DRA59</th>\n      <th>Item_Identifier_DRB01</th>\n      <th>Item_Identifier_DRB13</th>\n      <th>Item_Identifier_DRB24</th>\n      <th>...</th>\n      <th>Outlet_Identifier_OUT046</th>\n      <th>Outlet_Identifier_OUT049</th>\n      <th>Outlet_Size_High</th>\n      <th>Outlet_Size_Medium</th>\n      <th>Outlet_Size_Small</th>\n      <th>Outlet_Location_Type_Tier 1</th>\n      <th>Outlet_Location_Type_Tier 2</th>\n      <th>Outlet_Location_Type_Tier 3</th>\n      <th>Outlet_Type_Supermarket Type1</th>\n      <th>Outlet_Type_Supermarket Type2</th>\n    </tr>\n  </thead>\n  <tbody>\n    <tr>\n      <th>7604</th>\n      <td>6.135</td>\n      <td>0.079294</td>\n      <td>111.2860</td>\n      <td>2009</td>\n      <td>0</td>\n      <td>0</td>\n      <td>0</td>\n      <td>0</td>\n      <td>0</td>\n      <td>0</td>\n      <td>...</td>\n      <td>0</td>\n      <td>0</td>\n      <td>0</td>\n      <td>1</td>\n      <td>0</td>\n      <td>0</td>\n      <td>0</td>\n      <td>1</td>\n      <td>0</td>\n      <td>1</td>\n    </tr>\n    <tr>\n      <th>7283</th>\n      <td>9.395</td>\n      <td>0.159304</td>\n      <td>226.1720</td>\n      <td>2004</td>\n      <td>0</td>\n      <td>0</td>\n      <td>0</td>\n      <td>0</td>\n      <td>0</td>\n      <td>0</td>\n      <td>...</td>\n      <td>0</td>\n      <td>0</td>\n      <td>0</td>\n      <td>0</td>\n      <td>1</td>\n      <td>0</td>\n      <td>1</td>\n      <td>0</td>\n      <td>1</td>\n      <td>0</td>\n    </tr>\n    <tr>\n      <th>8439</th>\n      <td>7.720</td>\n      <td>0.000000</td>\n      <td>117.7466</td>\n      <td>2009</td>\n      <td>0</td>\n      <td>0</td>\n      <td>0</td>\n      <td>0</td>\n      <td>0</td>\n      <td>0</td>\n      <td>...</td>\n      <td>0</td>\n      <td>0</td>\n      <td>0</td>\n      <td>1</td>\n      <td>0</td>\n      <td>0</td>\n      <td>0</td>\n      <td>1</td>\n      <td>0</td>\n      <td>1</td>\n    </tr>\n    <tr>\n      <th>602</th>\n      <td>20.850</td>\n      <td>0.000000</td>\n      <td>115.1808</td>\n      <td>2009</td>\n      <td>0</td>\n      <td>0</td>\n      <td>0</td>\n      <td>0</td>\n      <td>0</td>\n      <td>0</td>\n      <td>...</td>\n      <td>0</td>\n      <td>0</td>\n      <td>0</td>\n      <td>1</td>\n      <td>0</td>\n      <td>0</td>\n      <td>0</td>\n      <td>1</td>\n      <td>0</td>\n      <td>1</td>\n    </tr>\n    <tr>\n      <th>1188</th>\n      <td>18.000</td>\n      <td>0.073491</td>\n      <td>157.3972</td>\n      <td>2009</td>\n      <td>0</td>\n      <td>0</td>\n      <td>0</td>\n      <td>0</td>\n      <td>0</td>\n      <td>0</td>\n      <td>...</td>\n      <td>0</td>\n      <td>0</td>\n      <td>0</td>\n      <td>1</td>\n      <td>0</td>\n      <td>0</td>\n      <td>0</td>\n      <td>1</td>\n      <td>0</td>\n      <td>1</td>\n    </tr>\n  </tbody>\n</table>\n<p>5 rows \u00d7 1573 columns</p>\n</div>"
                    },
                    "metadata": {}
                }
            ]
        },
        {
            "metadata": {},
            "cell_type": "code",
            "source": "test_x.head()",
            "execution_count": 17,
            "outputs": [
                {
                    "output_type": "execute_result",
                    "execution_count": 17,
                    "data": {
                        "text/plain": "      Item_Weight  Item_Visibility  Item_MRP  Outlet_Establishment_Year  \\\n6683        12.15         0.018411  252.1698                       1997   \n2162        14.30         0.130946   76.7328                       2009   \n1647        16.10         0.063589  179.4318                       2009   \n3332        15.70         0.027730  169.3790                       2009   \n1200        19.60         0.039544  163.6526                       1987   \n\n      Item_Identifier_DRA12  Item_Identifier_DRA24  Item_Identifier_DRA59  \\\n6683                      0                      0                      0   \n2162                      0                      0                      0   \n1647                      0                      0                      0   \n3332                      0                      0                      0   \n1200                      0                      0                      0   \n\n      Item_Identifier_DRB01  Item_Identifier_DRB13  Item_Identifier_DRB24  \\\n6683                      0                      0                      0   \n2162                      0                      0                      0   \n1647                      0                      0                      0   \n3332                      0                      0                      0   \n1200                      0                      0                      0   \n\n      ...  Outlet_Identifier_OUT046  Outlet_Identifier_OUT049  \\\n6683  ...                         1                         0   \n2162  ...                         0                         0   \n1647  ...                         0                         0   \n3332  ...                         0                         0   \n1200  ...                         0                         0   \n\n      Outlet_Size_High  Outlet_Size_Medium  Outlet_Size_Small  \\\n6683                 0                   0                  1   \n2162                 0                   1                  0   \n1647                 0                   1                  0   \n3332                 0                   1                  0   \n1200                 1                   0                  0   \n\n      Outlet_Location_Type_Tier 1  Outlet_Location_Type_Tier 2  \\\n6683                            1                            0   \n2162                            0                            0   \n1647                            0                            0   \n3332                            0                            0   \n1200                            0                            0   \n\n      Outlet_Location_Type_Tier 3  Outlet_Type_Supermarket Type1  \\\n6683                            0                              1   \n2162                            1                              0   \n1647                            1                              0   \n3332                            1                              0   \n1200                            1                              1   \n\n      Outlet_Type_Supermarket Type2  \n6683                              0  \n2162                              1  \n1647                              1  \n3332                              1  \n1200                              0  \n\n[5 rows x 1573 columns]",
                        "text/html": "<div>\n<style scoped>\n    .dataframe tbody tr th:only-of-type {\n        vertical-align: middle;\n    }\n\n    .dataframe tbody tr th {\n        vertical-align: top;\n    }\n\n    .dataframe thead th {\n        text-align: right;\n    }\n</style>\n<table border=\"1\" class=\"dataframe\">\n  <thead>\n    <tr style=\"text-align: right;\">\n      <th></th>\n      <th>Item_Weight</th>\n      <th>Item_Visibility</th>\n      <th>Item_MRP</th>\n      <th>Outlet_Establishment_Year</th>\n      <th>Item_Identifier_DRA12</th>\n      <th>Item_Identifier_DRA24</th>\n      <th>Item_Identifier_DRA59</th>\n      <th>Item_Identifier_DRB01</th>\n      <th>Item_Identifier_DRB13</th>\n      <th>Item_Identifier_DRB24</th>\n      <th>...</th>\n      <th>Outlet_Identifier_OUT046</th>\n      <th>Outlet_Identifier_OUT049</th>\n      <th>Outlet_Size_High</th>\n      <th>Outlet_Size_Medium</th>\n      <th>Outlet_Size_Small</th>\n      <th>Outlet_Location_Type_Tier 1</th>\n      <th>Outlet_Location_Type_Tier 2</th>\n      <th>Outlet_Location_Type_Tier 3</th>\n      <th>Outlet_Type_Supermarket Type1</th>\n      <th>Outlet_Type_Supermarket Type2</th>\n    </tr>\n  </thead>\n  <tbody>\n    <tr>\n      <th>6683</th>\n      <td>12.15</td>\n      <td>0.018411</td>\n      <td>252.1698</td>\n      <td>1997</td>\n      <td>0</td>\n      <td>0</td>\n      <td>0</td>\n      <td>0</td>\n      <td>0</td>\n      <td>0</td>\n      <td>...</td>\n      <td>1</td>\n      <td>0</td>\n      <td>0</td>\n      <td>0</td>\n      <td>1</td>\n      <td>1</td>\n      <td>0</td>\n      <td>0</td>\n      <td>1</td>\n      <td>0</td>\n    </tr>\n    <tr>\n      <th>2162</th>\n      <td>14.30</td>\n      <td>0.130946</td>\n      <td>76.7328</td>\n      <td>2009</td>\n      <td>0</td>\n      <td>0</td>\n      <td>0</td>\n      <td>0</td>\n      <td>0</td>\n      <td>0</td>\n      <td>...</td>\n      <td>0</td>\n      <td>0</td>\n      <td>0</td>\n      <td>1</td>\n      <td>0</td>\n      <td>0</td>\n      <td>0</td>\n      <td>1</td>\n      <td>0</td>\n      <td>1</td>\n    </tr>\n    <tr>\n      <th>1647</th>\n      <td>16.10</td>\n      <td>0.063589</td>\n      <td>179.4318</td>\n      <td>2009</td>\n      <td>0</td>\n      <td>0</td>\n      <td>0</td>\n      <td>0</td>\n      <td>0</td>\n      <td>0</td>\n      <td>...</td>\n      <td>0</td>\n      <td>0</td>\n      <td>0</td>\n      <td>1</td>\n      <td>0</td>\n      <td>0</td>\n      <td>0</td>\n      <td>1</td>\n      <td>0</td>\n      <td>1</td>\n    </tr>\n    <tr>\n      <th>3332</th>\n      <td>15.70</td>\n      <td>0.027730</td>\n      <td>169.3790</td>\n      <td>2009</td>\n      <td>0</td>\n      <td>0</td>\n      <td>0</td>\n      <td>0</td>\n      <td>0</td>\n      <td>0</td>\n      <td>...</td>\n      <td>0</td>\n      <td>0</td>\n      <td>0</td>\n      <td>1</td>\n      <td>0</td>\n      <td>0</td>\n      <td>0</td>\n      <td>1</td>\n      <td>0</td>\n      <td>1</td>\n    </tr>\n    <tr>\n      <th>1200</th>\n      <td>19.60</td>\n      <td>0.039544</td>\n      <td>163.6526</td>\n      <td>1987</td>\n      <td>0</td>\n      <td>0</td>\n      <td>0</td>\n      <td>0</td>\n      <td>0</td>\n      <td>0</td>\n      <td>...</td>\n      <td>0</td>\n      <td>0</td>\n      <td>1</td>\n      <td>0</td>\n      <td>0</td>\n      <td>0</td>\n      <td>0</td>\n      <td>1</td>\n      <td>1</td>\n      <td>0</td>\n    </tr>\n  </tbody>\n</table>\n<p>5 rows \u00d7 1573 columns</p>\n</div>"
                    },
                    "metadata": {}
                }
            ]
        },
        {
            "metadata": {},
            "cell_type": "code",
            "source": "train_y.head()",
            "execution_count": 18,
            "outputs": [
                {
                    "output_type": "execute_result",
                    "execution_count": 18,
                    "data": {
                        "text/plain": "7604    2263.7200\n7283    3848.3240\n8439    1296.3126\n602     1054.6272\n1188     778.9860\nName: Item_Outlet_Sales, dtype: float64"
                    },
                    "metadata": {}
                }
            ]
        },
        {
            "metadata": {},
            "cell_type": "code",
            "source": "test_y.head()",
            "execution_count": 19,
            "outputs": [
                {
                    "output_type": "execute_result",
                    "execution_count": 19,
                    "data": {
                        "text/plain": "6683    2283.0282\n2162    1312.9576\n1647     360.8636\n3332    1528.0110\n1200    1151.1682\nName: Item_Outlet_Sales, dtype: float64"
                    },
                    "metadata": {}
                }
            ]
        },
        {
            "metadata": {},
            "cell_type": "markdown",
            "source": "### MODEL CREATION AND PREDICTION"
        },
        {
            "metadata": {},
            "cell_type": "code",
            "source": "model = LinearRegression()",
            "execution_count": 20,
            "outputs": []
        },
        {
            "metadata": {},
            "cell_type": "code",
            "source": "model.fit(train_x,train_y)",
            "execution_count": 21,
            "outputs": [
                {
                    "output_type": "execute_result",
                    "execution_count": 21,
                    "data": {
                        "text/plain": "LinearRegression(copy_X=True, fit_intercept=True, n_jobs=None,\n         normalize=False)"
                    },
                    "metadata": {}
                }
            ]
        },
        {
            "metadata": {},
            "cell_type": "markdown",
            "source": "### ACCURACY CHECK"
        },
        {
            "metadata": {},
            "cell_type": "code",
            "source": "model.coef_",
            "execution_count": 22,
            "outputs": [
                {
                    "output_type": "execute_result",
                    "execution_count": 22,
                    "data": {
                        "text/plain": "array([ 2.04439133e+09,  1.12960419e+02, -1.58934021e+01, ...,\n        1.49407237e+12,  4.23080914e+12, -3.63499186e+12])"
                    },
                    "metadata": {}
                }
            ]
        },
        {
            "metadata": {},
            "cell_type": "code",
            "source": "model.intercept_",
            "execution_count": 23,
            "outputs": [
                {
                    "output_type": "execute_result",
                    "execution_count": 23,
                    "data": {
                        "text/plain": "-2290107803865737.5"
                    },
                    "metadata": {}
                }
            ]
        },
        {
            "metadata": {},
            "cell_type": "markdown",
            "source": "### PREDICTION"
        },
        {
            "metadata": {},
            "cell_type": "code",
            "source": "prediction = model.predict(test_x)",
            "execution_count": 24,
            "outputs": []
        },
        {
            "metadata": {},
            "cell_type": "code",
            "source": "prediction",
            "execution_count": 25,
            "outputs": [
                {
                    "output_type": "execute_result",
                    "execution_count": 25,
                    "data": {
                        "text/plain": "array([ 4.21200000e+03,  2.50500000e+02,  1.80000000e+03,  2.60650000e+03,\n        3.01850000e+03, -8.85998932e+12,  2.60900000e+03,  6.03000000e+02,\n       -2.00731767e+12,  2.35450000e+03,  1.68150000e+03,  3.33150000e+03,\n        4.79750000e+03,  7.53000000e+02,  6.73000000e+02,  1.69000000e+03,\n        1.71450000e+03,  1.06700000e+03,  3.07400000e+03,  1.37483851e+12,\n        1.96150000e+03,  2.45600000e+03,  1.78300000e+03,  1.41150000e+03,\n        2.76900000e+03, -1.74206696e+13,  2.46300000e+03,  5.88900000e+03,\n        2.88450000e+03,  1.91200000e+03,  1.81200000e+03,  1.19500000e+03,\n        6.39500000e+02,  2.13850000e+03,  2.98250000e+03,  1.38518313e+12,\n        4.60850000e+03,  3.47950000e+03,  2.21300000e+03,  6.23209296e+12,\n        1.52350000e+03,  5.23350000e+03,  2.73250000e+03,  2.72950000e+03,\n        1.17200000e+03,  7.68051885e+12,  1.37650000e+03,  1.77950000e+03,\n        5.78000000e+02,  2.51200000e+03,  6.32500000e+02,  8.00000000e+01,\n        1.14050000e+03,  1.28700000e+03,  1.11750000e+03,  9.11500000e+02,\n        1.63200000e+03,  4.93000000e+02,  1.01700000e+03,  1.16335642e+12,\n        1.37757799e+12,  4.13650000e+03,  3.39850000e+03,  1.96850000e+03,\n        2.29350000e+03,  2.68250000e+03,  5.53000000e+02,  3.36700000e+03,\n        6.45000000e+02,  1.64800000e+03,  3.97850000e+03,  1.32700000e+03,\n        4.06500000e+02,  3.22800000e+03,  1.62350000e+03,  8.07500000e+02,\n        2.83000000e+02,  5.49500000e+03,  1.16335642e+12,  1.50000000e+03,\n        6.95000000e+02, -1.50000000e+00,  8.15000000e+02,  2.78300000e+03,\n        3.09500000e+03,  4.41750000e+03,  3.72950000e+03,  7.69000000e+02,\n        2.28850000e+03,  3.04400000e+03,  6.22500000e+02,  2.92900000e+03,\n        2.16900000e+03,  1.11450000e+03,  3.47150000e+03,  1.58800000e+03,\n        1.70500000e+03,  9.58500000e+02,  1.28350000e+03,  5.57500000e+02,\n        2.11600000e+03,  2.38800000e+03,  1.16826296e+12,  5.72050000e+03,\n        5.29500000e+02,  2.33150000e+03,  1.22200000e+03,  3.56450000e+03,\n        2.27300000e+03,  8.98000000e+02,  4.71300000e+03,  5.57500000e+02,\n        4.37050000e+03,  1.33150000e+03,  7.23100000e+03,  1.15977873e+12,\n        4.43800000e+03,  2.74600000e+03,  4.94500000e+03,  2.76950000e+03,\n        1.74000000e+03,  2.58500000e+03,  1.44600000e+03,  3.33500000e+03,\n        1.26900000e+03,  3.78850000e+03,  2.88200000e+03,  8.74000000e+02,\n        3.00550000e+03,  2.09050000e+03,  4.19500000e+03,  1.91750000e+03,\n        4.12100000e+03,  1.31900000e+03,  1.65650000e+03,  2.15850000e+03,\n        3.03550000e+03,  4.26250000e+03,  2.54900000e+03,  2.73100000e+03,\n        2.82900000e+03,  2.95100000e+03,  2.81700000e+03,  3.64600000e+03,\n       -3.56006919e+13,  1.77800000e+03,  2.80300000e+03,  1.35750000e+03,\n        3.19650000e+03,  1.99650000e+03,  9.42000000e+02, -2.10040667e+11,\n        1.67700000e+03,  3.29650000e+03,  1.37757799e+12,  1.20000000e+02,\n        5.18150000e+03,  1.07350000e+03,  1.81200000e+03,  1.05350000e+03,\n        1.75450000e+03,  1.60265513e+13,  1.63200000e+03,  4.34500000e+02,\n        1.28850000e+03,  4.41500000e+02,  2.96150000e+03,  2.37500000e+02,\n        2.36700000e+03,  9.65500000e+02,  3.72250000e+03,  1.62950000e+03,\n        1.82750000e+03,  2.15750000e+03,  2.80950000e+03,  1.65250000e+03,\n        1.89450000e+03,  5.68750000e+03,  2.99400000e+03,  1.71450000e+03,\n        1.45400000e+03,  5.01800000e+03,  1.18150000e+03,  1.20400000e+03,\n        1.97050000e+03,  3.72950000e+03,  2.02250000e+03,  4.67000000e+03,\n        3.08550000e+03,  1.25000000e+03, -1.31793728e+13, -2.09192245e+11,\n        1.63700000e+03,  4.43900000e+03,  8.91000000e+02,  5.07000000e+02,\n        3.24600000e+03,  2.65850000e+03, -2.06544050e+12,  1.27050000e+03,\n        3.44500000e+03,  8.46000000e+02,  3.33150000e+03,  4.04050000e+03,\n        4.18650000e+03,  3.67000000e+03,  1.27350000e+03, -7.30000000e+01,\n        2.42550000e+03,  8.88500000e+02,  5.62350000e+03,  4.84800000e+03,\n        1.22400000e+03,  1.96800000e+03,  1.81884952e+12,  7.59500000e+02,\n        2.28450000e+03,  5.70650000e+03,  1.32300000e+03,  3.07750000e+03,\n       -2.10274369e+11,  1.59600000e+03,  1.15100000e+03,  8.06000000e+02,\n        9.45500000e+02,  3.65187079e+12,  9.10500000e+02,  1.10100000e+03,\n        1.15977873e+12,  4.62000032e+13,  1.83250000e+03,  2.52000000e+03,\n        7.22000000e+02,  1.12650000e+03, -2.06625825e+12,  2.89600000e+03,\n        9.17000000e+02,  2.53750000e+03,  2.74500000e+02,  3.36150000e+03,\n        1.86522971e+12,  1.91300000e+03,  9.71500000e+02,  3.64350000e+03,\n        2.53350000e+03,  1.59400000e+03,  2.17850000e+03,  3.91950000e+03,\n        1.94350000e+03,  4.49200000e+03,  7.51500000e+02,  1.97550000e+03,\n        1.61250000e+03,  1.40400000e+03,  2.78750000e+03,  1.88150000e+03,\n        2.11900000e+03,  1.53800000e+03,  1.23200000e+03,  3.24250000e+03,\n        2.32000000e+03,  1.25100000e+03,  2.45850000e+03,  3.20050000e+03,\n        1.97500000e+02,  4.89000000e+02,  2.18900000e+03,  4.01000000e+02,\n        2.15250000e+03,  2.35650000e+03,  4.07350000e+03,  9.73000000e+02,\n        1.72250000e+03,  1.65100000e+03,  5.12000000e+02,  3.94250000e+03,\n        9.37500000e+02,  2.53600000e+03,  3.09200000e+03,  2.01450000e+03,\n       -8.85998932e+12,  7.07000000e+02,  1.28300000e+03,  1.74400000e+03,\n        2.40150000e+03, -5.66868328e+12,  2.92250000e+03,  3.14650000e+03,\n        1.25100000e+03,  1.25450000e+03,  7.52307410e+10,  3.41500000e+03,\n        2.40450000e+03,  3.51500000e+03,  7.09900000e+03,  2.22700000e+03,\n        5.18300000e+03,  1.16335642e+12,  4.49950000e+03,  2.42950000e+03,\n        1.59100000e+03,  6.47500000e+02,  3.00200000e+03,  5.60500000e+02,\n        1.66400000e+03,  2.36000000e+02,  1.17900000e+03,  4.28250000e+03,\n        3.37950000e+03,  1.29900000e+03,  5.25500000e+02,  1.48450000e+03,\n        1.50100000e+03,  5.91500000e+02,  2.44450000e+03,  1.40000496e+12,\n        2.11350000e+03,  2.94150000e+03,  1.24350000e+03,  3.96900000e+03,\n        1.61450000e+03,  4.24500000e+02,  7.59500000e+02,  8.80000000e+02,\n        1.42000000e+03,  2.83850000e+03,  3.95150000e+03,  2.07850000e+03,\n        2.45500000e+03,  3.50300000e+03,  2.48150000e+03,  6.56500000e+02,\n        2.36200000e+03,  2.31850000e+03,  1.16400000e+03,  2.12650000e+03,\n        1.98150000e+03,  2.77950000e+03,  2.00700000e+03,  6.93500000e+02,\n        3.24100000e+03,  3.31700000e+03,  1.72250000e+03,  1.89100000e+03,\n        6.59500000e+02,  4.57000000e+02,  8.94500000e+02,  3.13400000e+03,\n        7.23500000e+02,  1.47600000e+03,  1.10250000e+03,  1.62700000e+03,\n        4.98000000e+02,  5.09900000e+03,  1.67050000e+03,  1.63300000e+03,\n        3.03450000e+03,  3.30650000e+03,  2.03000000e+03,  2.86350000e+03,\n        4.08000000e+03,  1.89100000e+03,  1.92550000e+03,  1.17300000e+03,\n        2.87400000e+03,  9.39500000e+02,  1.70550000e+03,  9.90000000e+02,\n        1.05350000e+03,  1.15977873e+12,  3.21500000e+03, -5.67564444e+12,\n        4.17050000e+03,  4.85050000e+03,  1.64300000e+03,  6.35550000e+03,\n        1.51300000e+03,  7.89500000e+02,  3.62750000e+03,  1.33550000e+03,\n        1.15773434e+12,  1.42500000e+03,  2.05850000e+03,  1.89900000e+03,\n        2.71450000e+03,  2.30200000e+03,  3.18150000e+03,  1.54000000e+03,\n        2.80350000e+03,  1.50650000e+03,  5.74000000e+02,  3.00400000e+03,\n        1.44000000e+03,  3.73350000e+03,  3.03500000e+02,  4.54550000e+03,\n        2.24250000e+03,  2.39000000e+02,  1.07350000e+03,  2.12650000e+03,\n        2.03400000e+03,  1.93150000e+03, -2.10274369e+11,  9.87500000e+02,\n        2.42300000e+03,  1.65250000e+03,  1.65550000e+03,  4.84700000e+03,\n       -2.29890707e+12,  1.14214586e+12,  2.56600000e+03,  2.38900000e+03,\n        1.74000000e+03,  1.51200000e+03,  2.78300000e+03,  9.95500000e+02,\n       -2.10040667e+11,  1.91200000e+03,  4.25000000e+02,  2.38250000e+03,\n        3.10200000e+03,  3.21750000e+03,  6.54500000e+02,  4.36550000e+03,\n        1.99350000e+03,  4.99000000e+02,  1.44900000e+03,  2.24650000e+03,\n        1.16826296e+12,  2.30350000e+03,  1.61500000e+02,  1.05900000e+03,\n        2.78200000e+03,  4.45450000e+03,  1.97350000e+03,  2.24600000e+03,\n        1.12050000e+03,  1.52750000e+03,  3.75900000e+03,  1.41600000e+03,\n        1.34300000e+03,  3.42600000e+03,  2.25850000e+03,  7.42500000e+02,\n        1.22850000e+03,  1.41650000e+03,  1.04250000e+03,  5.78500000e+02,\n        1.03400000e+03,  1.50000000e+03,  5.61000000e+02,  5.27900000e+03,\n        5.90500000e+02,  1.98200000e+03,  1.10200000e+03,  3.19700000e+03,\n        1.50200000e+03,  4.75750000e+03,  1.90400000e+03,  1.34150000e+03,\n        1.91600000e+03,  1.74900000e+03,  1.81550000e+03,  1.45400000e+03,\n        4.33050000e+03,  3.84850000e+03,  1.15500000e+03,  7.15500000e+02,\n        1.35650000e+03,  1.00600000e+03,  1.97100000e+03,  4.50350000e+03,\n        1.27350000e+03,  2.03200000e+03,  1.19550000e+03,  2.05400000e+03,\n        3.40600000e+03,  2.20900000e+03,  4.89700000e+03, -1.74206696e+13,\n        9.04000000e+02,  3.95000000e+02,  2.28750000e+03,  2.50300000e+03,\n       -5.67696307e+12,  1.02050000e+03,  1.01850000e+03, -5.67564444e+12,\n        1.75750000e+03,  1.63200000e+03,  6.36000000e+02,  1.61100000e+03,\n        2.83250000e+03,  1.86522971e+12,  1.99000000e+03,  1.74900000e+03,\n        1.04050000e+03,  3.66550000e+03,  5.92000000e+02,  3.10500000e+03,\n        2.13850000e+03,  2.01150000e+03,  3.24850000e+03,  2.74600000e+03,\n        8.76000000e+02,  1.02000000e+03,  6.76100000e+03,  4.42300000e+03,\n        3.50950000e+03,  1.43650000e+03,  1.46000000e+03,  2.19650000e+03,\n        6.37650000e+03,  4.46950000e+03,  1.59500000e+03,  3.11850000e+03,\n        1.31550000e+03,  8.77000000e+02,  2.63400000e+03,  3.25950000e+03,\n        9.23500000e+02,  8.63000000e+02,  1.01950000e+03,  1.13500000e+02,\n        4.25150000e+03,  5.54000000e+02,  3.95650000e+03,  5.72200000e+03,\n        1.40000000e+03,  5.59400000e+03,  2.43000000e+03,  2.39150000e+03,\n        1.13888505e+12,  1.60600000e+03,  3.10650000e+03,  6.07000000e+02,\n        1.94050000e+03,  4.79050000e+03,  2.07800000e+03,  3.66000000e+02,\n        3.13800000e+03,  3.25350000e+03, -4.42157238e+10,  2.82400000e+03,\n        4.38050000e+03,  8.75500000e+02,  4.45100000e+03,  4.11000000e+02,\n        2.69200000e+03,  1.01200000e+03,  2.87350000e+03,  2.88850000e+03,\n        1.23050000e+03,  1.92750000e+03,  2.83400000e+03,  1.89750000e+03,\n        9.25000000e+02,  1.80900000e+03,  2.21500000e+03,  2.87650000e+03,\n        6.01000000e+02,  1.65450000e+03,  3.10700000e+03, -3.56006919e+13,\n        2.52050000e+03, -2.07525357e+12,  2.23550000e+03,  2.57550000e+03,\n        4.51150000e+03,  4.61950000e+03,  1.38947635e+12,  2.56700000e+03,\n        3.39050000e+03,  2.28500000e+03,  5.81500000e+02,  2.57400000e+03,\n        4.48500000e+03,  1.82250000e+03,  1.32200000e+03,  2.68350000e+03,\n        1.50450000e+03,  3.15500000e+03,  3.93000000e+03,  2.30550000e+03,\n        5.53600000e+03,  1.68600000e+03,  1.44900000e+03,  2.03300000e+03,\n        1.68200000e+03,  2.65800000e+03,  1.11250000e+03,  4.63500000e+02,\n        1.93850000e+03,  5.21400000e+03,  2.30700000e+03,  1.16837205e+13,\n        4.80350000e+03,  3.91200000e+03,  1.37550000e+03,  2.01700000e+03,\n        3.51750000e+03,  1.88600000e+03,  6.81500000e+02, -2.05000000e+01,\n        5.66500000e+02,  2.63700000e+03,  3.39250000e+03,  1.07850000e+03,\n        2.05900000e+03,  1.14327027e+12,  1.25800000e+03,  3.03800000e+03,\n        4.39650000e+03,  5.06000000e+02,  1.81884952e+12,  6.78500000e+02,\n        5.68300000e+03,  1.08900000e+03,  3.53500000e+03,  5.96000000e+02,\n        4.24500000e+02,  4.00000000e+03,  2.63500000e+03,  1.95050000e+03,\n        2.71350000e+03,  2.14400000e+03, -1.84859699e+12,  2.11300000e+03,\n        2.74650000e+03,  3.89200000e+03,  4.90700000e+03,  6.03500000e+02,\n        1.02350000e+03,  2.37600000e+03,  1.00700000e+03,  1.30750000e+03,\n        1.23800000e+03,  2.07850000e+03,  1.43500000e+03,  1.76300000e+03,\n        2.12800000e+03,  4.46250000e+03,  1.73350000e+03,  1.38750000e+03,\n        5.84150000e+03,  1.82150000e+03,  1.48400000e+03,  7.84000000e+02,\n        5.92500000e+02,  8.25500000e+02,  1.81884952e+12,  3.96150000e+03,\n        1.36850000e+03,  7.82000000e+02,  3.13950000e+03,  3.24800000e+03,\n        1.76350000e+03,  1.67250000e+03,  1.12000000e+02,  1.68900000e+03,\n        1.19650000e+03,  1.88650000e+03,  1.94150000e+03,  1.53900000e+03,\n        1.81300000e+03,  2.41750000e+03,  1.24400000e+03, -1.99501830e+11,\n        1.38927191e+12,  1.15773434e+12,  3.74200000e+03,  1.55100000e+03,\n        4.84700000e+03,  4.48800000e+03,  3.01850000e+03,  3.73150000e+03,\n        2.88800000e+03,  2.02100000e+03,  3.83500000e+02,  3.78900000e+03,\n        6.17500000e+02,  1.31900000e+03,  4.28550000e+03,  1.48200000e+03,\n        4.63350000e+03,  3.59300000e+03,  1.00650000e+03,  7.34000000e+02,\n        5.04100000e+03,  1.75750000e+03,  3.53500000e+02,  1.74400000e+03,\n        2.38950000e+03,  3.14200000e+03,  3.14650000e+03,  4.38050000e+03,\n        3.46900000e+03,  3.64650000e+03,  4.81950000e+03,  4.49200000e+03,\n        1.66350000e+03,  2.04400000e+03,  1.25250000e+03,  1.16450000e+03,\n       -2.07525357e+12,  2.07850000e+03,  1.38947635e+12,  3.03700000e+03,\n        3.61800000e+03,  4.68500000e+03,  1.48000000e+03,  1.16950000e+03,\n        1.44400000e+03,  3.75900000e+03,  1.40460484e+12,  3.21100000e+03,\n        1.81500000e+03,  2.80800000e+03,  1.39400000e+03, -4.37993405e+12,\n        4.89100000e+03,  1.52900000e+03,  3.58950000e+03,  1.07100000e+03,\n        3.93350000e+03,  2.88000000e+03,  1.86850000e+03,  2.32500000e+02,\n        1.09350000e+03,  3.94700000e+03,  2.22900000e+03,  2.94600000e+03,\n        1.20800000e+03,  7.21500000e+02,  6.50000000e+02,  2.57950000e+03,\n        5.09100000e+03,  3.10950000e+03,  1.79000000e+03,  3.49750000e+03,\n        8.17390064e+12,  8.12500000e+02,  1.76000000e+02,  2.32900000e+03,\n        1.95750000e+03,  3.29900000e+03,  3.66450000e+03,  1.87700000e+03,\n        3.58100000e+03,  9.38500000e+02,  1.23100000e+03,  3.20450000e+03,\n        9.62500000e+02,  2.45700000e+03,  2.59150000e+03,  1.41250000e+03,\n        5.89450000e+03,  1.77650000e+03,  3.04400000e+03,  4.49350000e+03,\n        1.22550000e+03,  2.23150000e+03,  1.00750000e+03,  1.45200000e+03,\n        1.14163476e+12,  3.35450000e+03,  2.16650000e+03,  2.69150000e+03,\n        2.35750000e+03,  1.77400000e+03,  4.98800000e+03,  6.77500000e+02,\n        1.03500000e+03,  1.38927191e+12,  4.20600000e+03,  1.94250000e+03,\n        1.31350000e+03,  4.24050000e+03,  8.10500000e+02,  1.44300000e+03,\n        3.09700000e+03,  1.69500000e+03,  1.15400000e+03,  1.02800000e+03,\n        3.05450000e+03,  2.04500000e+03, -2.07525357e+12,  9.00500000e+02,\n        5.08000000e+02,  8.92500000e+02,  1.52500000e+03,  2.49650000e+03,\n        1.23550000e+03,  3.37700000e+03,  1.09150000e+03,  2.08850000e+03,\n        1.22150000e+03,  1.14327027e+12,  3.28100000e+03,  3.36850000e+03,\n        4.07500000e+02, -8.85998932e+12,  1.39550000e+03,  2.50000000e+03,\n        2.47400000e+03,  6.53500000e+02,  3.42950000e+03,  3.56550000e+03,\n        1.95750000e+03,  7.03000000e+02,  3.54500000e+02, -5.66868328e+12,\n        3.28450000e+03,  1.16826296e+12,  2.65250000e+03,  1.95800000e+03,\n        1.40500000e+03,  3.01400000e+03,  1.16826296e+12, -2.06625825e+12,\n        2.37350000e+03,  1.27600000e+03,  4.02600000e+03,  1.78200000e+03,\n        2.62450000e+03,  1.58550000e+03,  2.60900000e+03,  2.41350000e+03,\n        1.64550000e+03,  2.40950000e+03,  2.28000000e+03,  1.47500000e+03,\n        2.22100000e+03,  2.09650000e+03,  3.52900000e+03,  2.39250000e+03,\n        1.30400000e+03,  5.27500000e+02,  4.24300000e+03,  1.19550000e+03,\n        5.39250000e+03,  2.32400000e+03,  2.28500000e+03,  7.91000000e+02,\n        2.12450000e+03,  7.19000000e+02,  4.25800000e+03,  3.45550000e+03,\n        7.55500000e+02, -2.10040667e+11,  1.24450000e+03,  1.23850000e+03,\n        2.86800000e+03,  1.69100000e+03,  4.41500000e+02,  2.03000000e+03,\n        1.95800000e+03,  2.54650000e+03,  2.16050000e+03,  3.34300000e+03,\n        3.27750000e+03,  3.22150000e+03,  2.77950000e+03,  3.27800000e+03,\n        1.12200000e+03,  3.33300000e+03,  1.15773434e+12,  2.44300000e+03,\n        1.03750000e+03,  2.81050000e+03,  4.43650000e+03,  2.61650000e+03,\n        3.57500000e+02,  1.79850000e+03,  1.88700000e+03,  6.70500000e+03,\n        1.37757799e+12,  2.83900000e+03,  3.74600000e+03,  3.22100000e+03,\n        2.13350000e+03,  8.02500000e+02,  4.08000000e+02,  3.05400000e+03,\n        2.30200000e+03,  3.00500000e+02,  1.28250000e+03,  2.19950000e+03,\n        1.80800000e+03,  9.41000000e+02,  1.47600000e+03,  4.11650000e+03,\n        1.63600000e+03,  2.35750000e+03,  4.62150000e+03, -2.06544050e+12,\n        6.05300000e+03,  2.28700000e+03,  2.04550000e+03,  2.69950000e+03,\n        2.99450000e+03,  2.74050000e+03,  2.43250000e+03,  4.73900000e+03,\n        1.86300000e+03,  1.57950000e+03,  1.31250000e+03,  1.58800000e+03,\n        5.47500000e+02,  4.27000000e+02,  2.88000000e+02, -5.67696307e+12,\n        3.90050000e+03,  3.28450000e+03,  1.12200000e+03,  7.59000000e+02,\n        1.61850000e+03, -5.67696307e+12,  2.19550000e+03,  1.21200000e+03,\n        1.26850000e+03,  3.56800000e+03,  2.80350000e+03,  1.47150000e+03,\n        6.55700000e+03,  1.70050000e+03,  1.75100000e+03,  1.64000000e+03,\n        1.13750000e+03,  2.59350000e+03])"
                    },
                    "metadata": {}
                }
            ]
        },
        {
            "metadata": {},
            "cell_type": "code",
            "source": "",
            "execution_count": null,
            "outputs": []
        }
    ],
    "metadata": {
        "kernelspec": {
            "name": "python3",
            "display_name": "Python 3.6",
            "language": "python"
        },
        "language_info": {
            "name": "python",
            "version": "3.6.9",
            "mimetype": "text/x-python",
            "codemirror_mode": {
                "name": "ipython",
                "version": 3
            },
            "pygments_lexer": "ipython3",
            "nbconvert_exporter": "python",
            "file_extension": ".py"
        }
    },
    "nbformat": 4,
    "nbformat_minor": 1
}